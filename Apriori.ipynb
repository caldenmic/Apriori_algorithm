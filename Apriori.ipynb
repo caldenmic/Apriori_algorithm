{
 "cells": [
  {
   "cell_type": "code",
   "execution_count": 1,
   "id": "e4ddd016",
   "metadata": {},
   "outputs": [],
   "source": [
    "import pandas as pd\n",
    "import numpy as np\n",
    "import itertools"
   ]
  },
  {
   "cell_type": "code",
   "execution_count": 2,
   "id": "090e142b",
   "metadata": {},
   "outputs": [
    {
     "data": {
      "text/html": [
       "<div>\n",
       "<style scoped>\n",
       "    .dataframe tbody tr th:only-of-type {\n",
       "        vertical-align: middle;\n",
       "    }\n",
       "\n",
       "    .dataframe tbody tr th {\n",
       "        vertical-align: top;\n",
       "    }\n",
       "\n",
       "    .dataframe thead th {\n",
       "        text-align: right;\n",
       "    }\n",
       "</style>\n",
       "<table border=\"1\" class=\"dataframe\">\n",
       "  <thead>\n",
       "    <tr style=\"text-align: right;\">\n",
       "      <th></th>\n",
       "      <th>Member_number</th>\n",
       "      <th>Date</th>\n",
       "      <th>itemDescription</th>\n",
       "      <th>year</th>\n",
       "      <th>month</th>\n",
       "      <th>day</th>\n",
       "      <th>day_of_week</th>\n",
       "    </tr>\n",
       "  </thead>\n",
       "  <tbody>\n",
       "    <tr>\n",
       "      <th>0</th>\n",
       "      <td>1808</td>\n",
       "      <td>2015-07-21</td>\n",
       "      <td>A C D</td>\n",
       "      <td>2015</td>\n",
       "      <td>7</td>\n",
       "      <td>21</td>\n",
       "      <td>1</td>\n",
       "    </tr>\n",
       "    <tr>\n",
       "      <th>1</th>\n",
       "      <td>2552</td>\n",
       "      <td>2015-05-01</td>\n",
       "      <td>B C E</td>\n",
       "      <td>2015</td>\n",
       "      <td>5</td>\n",
       "      <td>1</td>\n",
       "      <td>4</td>\n",
       "    </tr>\n",
       "    <tr>\n",
       "      <th>2</th>\n",
       "      <td>2300</td>\n",
       "      <td>2015-09-19</td>\n",
       "      <td>A B C E</td>\n",
       "      <td>2015</td>\n",
       "      <td>9</td>\n",
       "      <td>19</td>\n",
       "      <td>5</td>\n",
       "    </tr>\n",
       "    <tr>\n",
       "      <th>3</th>\n",
       "      <td>2552</td>\n",
       "      <td>2015-05-01</td>\n",
       "      <td>B E</td>\n",
       "      <td>2015</td>\n",
       "      <td>5</td>\n",
       "      <td>1</td>\n",
       "      <td>4</td>\n",
       "    </tr>\n",
       "  </tbody>\n",
       "</table>\n",
       "</div>"
      ],
      "text/plain": [
       "   Member_number        Date itemDescription  year  month  day  day_of_week\n",
       "0           1808  2015-07-21           A C D  2015      7   21            1\n",
       "1           2552  2015-05-01           B C E  2015      5    1            4\n",
       "2           2300  2015-09-19         A B C E  2015      9   19            5\n",
       "3           2552  2015-05-01             B E  2015      5    1            4"
      ]
     },
     "execution_count": 2,
     "metadata": {},
     "output_type": "execute_result"
    }
   ],
   "source": [
    "df = pd.read_csv(\"custom.csv\")\n",
    "df.head()"
   ]
  },
  {
   "cell_type": "code",
   "execution_count": 3,
   "id": "f113872c",
   "metadata": {},
   "outputs": [
    {
     "name": "stdout",
     "output_type": "stream",
     "text": [
      "<class 'pandas.core.frame.DataFrame'>\n",
      "RangeIndex: 4 entries, 0 to 3\n",
      "Data columns (total 7 columns):\n",
      " #   Column           Non-Null Count  Dtype \n",
      "---  ------           --------------  ----- \n",
      " 0   Member_number    4 non-null      int64 \n",
      " 1   Date             4 non-null      object\n",
      " 2   itemDescription  4 non-null      object\n",
      " 3   year             4 non-null      int64 \n",
      " 4   month            4 non-null      int64 \n",
      " 5   day              4 non-null      int64 \n",
      " 6   day_of_week      4 non-null      int64 \n",
      "dtypes: int64(5), object(2)\n",
      "memory usage: 352.0+ bytes\n"
     ]
    }
   ],
   "source": [
    "df.info()"
   ]
  },
  {
   "cell_type": "code",
   "execution_count": 4,
   "id": "ad2ba199",
   "metadata": {},
   "outputs": [],
   "source": [
    "df = df.drop(columns=['Member_number', 'Date', 'year', 'month', 'day', 'day_of_week'])\n",
    "n = df.size"
   ]
  },
  {
   "cell_type": "code",
   "execution_count": 5,
   "id": "6222f269",
   "metadata": {},
   "outputs": [],
   "source": [
    "#Cleaning the column\n",
    "df['itemDescription'] = df['itemDescription'].str.split()"
   ]
  },
  {
   "cell_type": "code",
   "execution_count": 6,
   "id": "5b719ccd",
   "metadata": {},
   "outputs": [
    {
     "data": {
      "text/html": [
       "<div>\n",
       "<style scoped>\n",
       "    .dataframe tbody tr th:only-of-type {\n",
       "        vertical-align: middle;\n",
       "    }\n",
       "\n",
       "    .dataframe tbody tr th {\n",
       "        vertical-align: top;\n",
       "    }\n",
       "\n",
       "    .dataframe thead th {\n",
       "        text-align: right;\n",
       "    }\n",
       "</style>\n",
       "<table border=\"1\" class=\"dataframe\">\n",
       "  <thead>\n",
       "    <tr style=\"text-align: right;\">\n",
       "      <th></th>\n",
       "      <th>itemDescription</th>\n",
       "    </tr>\n",
       "  </thead>\n",
       "  <tbody>\n",
       "    <tr>\n",
       "      <th>0</th>\n",
       "      <td>[A, C, D]</td>\n",
       "    </tr>\n",
       "    <tr>\n",
       "      <th>1</th>\n",
       "      <td>[B, C, E]</td>\n",
       "    </tr>\n",
       "    <tr>\n",
       "      <th>2</th>\n",
       "      <td>[A, B, C, E]</td>\n",
       "    </tr>\n",
       "    <tr>\n",
       "      <th>3</th>\n",
       "      <td>[B, E]</td>\n",
       "    </tr>\n",
       "  </tbody>\n",
       "</table>\n",
       "</div>"
      ],
      "text/plain": [
       "  itemDescription\n",
       "0       [A, C, D]\n",
       "1       [B, C, E]\n",
       "2    [A, B, C, E]\n",
       "3          [B, E]"
      ]
     },
     "execution_count": 6,
     "metadata": {},
     "output_type": "execute_result"
    }
   ],
   "source": [
    "df.head()"
   ]
  },
  {
   "cell_type": "code",
   "execution_count": 7,
   "id": "ecfcb25e",
   "metadata": {},
   "outputs": [
    {
     "name": "stdout",
     "output_type": "stream",
     "text": [
      "  item_set  frequency  support\n",
      "1     (B,)          3     0.75\n",
      "2     (E,)          3     0.75\n",
      "3     (C,)          3     0.75\n",
      "4     (A,)          2     0.50\n",
      "*******************************************\n",
      "  item_set  frequency  support\n",
      "1   (B, C)          2     0.50\n",
      "2   (B, E)          3     0.75\n",
      "3   (A, C)          2     0.50\n",
      "5   (C, E)          2     0.50\n",
      "*******************************************\n",
      "    item_set  frequency  support\n",
      "2  (B, C, E)          2      0.5\n",
      "*******************************************\n"
     ]
    }
   ],
   "source": [
    "def items_remaining(df_column):\n",
    "    items = set()\n",
    "    for l in df_column:\n",
    "        for item in l:\n",
    "            items.add(item)\n",
    "\n",
    "    #print(len(items))\n",
    "    total_item_count = len(items)\n",
    "    return items\n",
    "\n",
    "def contains_in(item_set):\n",
    "    count = 0\n",
    "    for i in df['itemDescription']:\n",
    "        if(set(item_set).issubset(set(i))):\n",
    "            count += 1\n",
    "    #print(count)\n",
    "    return count\n",
    "\n",
    "df_a = pd.DataFrame()\n",
    "flag = 1\n",
    "\n",
    "def apriori(i, support=0.05):\n",
    "    global df_a\n",
    "    if(i == 1):\n",
    "        item_sets = list(items_remaining(df['itemDescription']))\n",
    "        item_sets = list(itertools.combinations(item_sets, 1))\n",
    "        df_a['item_set'] = item_sets\n",
    "        #print((type(df_a['item_set'][0])))\n",
    "    else:\n",
    "        item_sets = list(items_remaining(df_a['item_set']))\n",
    "        item_sets = list(itertools.combinations(item_sets, i))\n",
    "        df_a = df_a[0:0]\n",
    "        df_a['item_set'] = item_sets\n",
    "\n",
    "    frequency = list()\n",
    "    for i in item_sets:\n",
    "        frequency.append(contains_in(i))\n",
    "    #print(frequency)\n",
    "    df_a['frequency'] = frequency\n",
    "    df_a['support'] = df_a['frequency'] / n\n",
    "    #print(df_a)\n",
    "    df_a.drop(df_a[df_a['support'] < support].index, inplace=True)\n",
    "    if(df_a.empty):\n",
    "        flag = 0\n",
    "        return flag\n",
    "    print(df_a)\n",
    "    print(\"*******************************************\")\n",
    "    return 1\n",
    "\n",
    "i = 0\n",
    "while(flag):\n",
    "    flag = apriori(i+1, 0.5)\n",
    "    i += 1"
   ]
  },
  {
   "cell_type": "code",
   "execution_count": null,
   "id": "9ced0661",
   "metadata": {},
   "outputs": [],
   "source": []
  },
  {
   "cell_type": "code",
   "execution_count": null,
   "id": "1b473b39",
   "metadata": {},
   "outputs": [],
   "source": []
  },
  {
   "cell_type": "code",
   "execution_count": null,
   "id": "4d78f3a3",
   "metadata": {},
   "outputs": [],
   "source": []
  },
  {
   "cell_type": "code",
   "execution_count": null,
   "id": "5a0a12e4",
   "metadata": {},
   "outputs": [],
   "source": []
  },
  {
   "cell_type": "code",
   "execution_count": null,
   "id": "3a5c9cd7",
   "metadata": {},
   "outputs": [],
   "source": []
  },
  {
   "cell_type": "code",
   "execution_count": null,
   "id": "862d65df",
   "metadata": {},
   "outputs": [],
   "source": []
  },
  {
   "cell_type": "code",
   "execution_count": null,
   "id": "6c860fa1",
   "metadata": {},
   "outputs": [],
   "source": []
  },
  {
   "cell_type": "code",
   "execution_count": null,
   "id": "819c7972",
   "metadata": {},
   "outputs": [],
   "source": []
  },
  {
   "cell_type": "code",
   "execution_count": null,
   "id": "f8d51b6d",
   "metadata": {},
   "outputs": [],
   "source": []
  }
 ],
 "metadata": {
  "kernelspec": {
   "display_name": "Python 3 (ipykernel)",
   "language": "python",
   "name": "python3"
  },
  "language_info": {
   "codemirror_mode": {
    "name": "ipython",
    "version": 3
   },
   "file_extension": ".py",
   "mimetype": "text/x-python",
   "name": "python",
   "nbconvert_exporter": "python",
   "pygments_lexer": "ipython3",
   "version": "3.9.7"
  }
 },
 "nbformat": 4,
 "nbformat_minor": 5
}
